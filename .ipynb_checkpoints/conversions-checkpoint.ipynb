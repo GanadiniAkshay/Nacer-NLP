{
 "cells": [
  {
   "cell_type": "code",
   "execution_count": 2,
   "metadata": {},
   "outputs": [],
   "source": [
    "import zipfile\n",
    "import os\n",
    "import json"
   ]
  },
  {
   "cell_type": "code",
   "execution_count": 10,
   "metadata": {},
   "outputs": [],
   "source": [
    "ozz_data = {\n",
    "    \"ozz_data\":{\n",
    "        \"intents\":[],\n",
    "        \"entities\":[]\n",
    "    }\n",
    "}\n",
    "\n",
    "intents = []"
   ]
  },
  {
   "cell_type": "code",
   "execution_count": 5,
   "metadata": {},
   "outputs": [],
   "source": [
    "zip_ref = zipfile.ZipFile('./data/dialogflow/EmailIntentTag.zip', 'r')\n",
    "zip_ref.extractall(\"./data/dialogflow/contents/\")\n",
    "zip_ref.close()"
   ]
  },
  {
   "cell_type": "code",
   "execution_count": 6,
   "metadata": {},
   "outputs": [],
   "source": [
    "intents = os.listdir('./data/dialogflow/contents/intents')"
   ]
  },
  {
   "cell_type": "code",
   "execution_count": 9,
   "metadata": {},
   "outputs": [
    {
     "name": "stdout",
     "output_type": "stream",
     "text": [
      "usingCompetitor usingCompetitor_usersays_en.json\n",
      "decisionMaker decisionMaker_usersays_en.json\n",
      "notInterested notInterested_usersays_en.json\n",
      "leadSendsCalendarLink leadSendsCalendarLink_usersays_en.json\n",
      "alreadyInTouch alreadyInTouch_usersays_en.json\n",
      "interestedAndWeakScheduleRequest interestedAndWeakScheduleRequest_usersays_en.json\n",
      "leadCantFindGoodTime leadCantFindGoodTime_usersays_en.json\n",
      "leadDoesNotHaveAuthority leadDoesNotHaveAuthority_usersays_en.json\n",
      "knowMore knowMore_usersays_en.json\n",
      "nurture nurture_usersays_en.json\n",
      "strongScheduleRequest strongScheduleRequest_usersays_en.json\n",
      "scheduleConfirmationRequest scheduleConfirmationRequest_usersays_en.json\n",
      "leadAsksClientContact leadAsksClientContact_usersays_en.json\n",
      "busyWillRevertLater busyWillRevertLater_usersays_en.json\n",
      "leadWillBookCall leadWillBookCall_usersays_en.json\n",
      "unavailable unavailable_usersays_en.json\n",
      "exploringOptions exploringOptions_usersays_en.json\n",
      "leadCallingClientDirectly leadCallingClientDirectly_usersays_en.json\n",
      "condition condition_usersays_en.json\n",
      "rescheduleRequest rescheduleRequest_usersays_en.json\n",
      "happyWithStatusQuo happyWithStatusQuo_usersays_en.json\n",
      "unsubscribeRequest unsubscribeRequest_usersays_en.json\n",
      "greeting greeting_usersays_en.json\n"
     ]
    }
   ],
   "source": [
    "for intent in intents:\n",
    "    if \"_usersays_en.json\" in intent:\n",
    "        intentName = intent.replace(\"_usersays_en.json\",\"\")\n",
    "        with open()\n",
    "        print(intentName,intent)"
   ]
  },
  {
   "cell_type": "code",
   "execution_count": null,
   "metadata": {},
   "outputs": [],
   "source": []
  }
 ],
 "metadata": {
  "kernelspec": {
   "display_name": "Python 3",
   "language": "python",
   "name": "python3"
  },
  "language_info": {
   "codemirror_mode": {
    "name": "ipython",
    "version": 3
   },
   "file_extension": ".py",
   "mimetype": "text/x-python",
   "name": "python",
   "nbconvert_exporter": "python",
   "pygments_lexer": "ipython3",
   "version": "3.6.4"
  }
 },
 "nbformat": 4,
 "nbformat_minor": 2
}
